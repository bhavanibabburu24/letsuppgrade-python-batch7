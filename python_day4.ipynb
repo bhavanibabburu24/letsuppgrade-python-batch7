{
  "nbformat": 4,
  "nbformat_minor": 0,
  "metadata": {
    "colab": {
      "name": "python-day4",
      "provenance": [],
      "collapsed_sections": [],
      "authorship_tag": "ABX9TyO9eQJnHObl91N0xko4vHJ3",
      "include_colab_link": true
    },
    "kernelspec": {
      "name": "python3",
      "display_name": "Python 3"
    }
  },
  "cells": [
    {
      "cell_type": "markdown",
      "metadata": {
        "id": "view-in-github",
        "colab_type": "text"
      },
      "source": [
        "<a href=\"https://colab.research.google.com/github/bhavanibabburu24/letsuppgrade-python-batch7/blob/master/python_day4.ipynb\" target=\"_parent\"><img src=\"https://colab.research.google.com/assets/colab-badge.svg\" alt=\"Open In Colab\"/></a>"
      ]
    },
    {
      "cell_type": "markdown",
      "metadata": {
        "id": "iZT8wKaPkldc",
        "colab_type": "text"
      },
      "source": [
        ""
      ]
    },
    {
      "cell_type": "code",
      "metadata": {
        "id": "ZqQKWyNFknPN",
        "colab_type": "code",
        "colab": {
          "base_uri": "https://localhost:8080/",
          "height": 34
        },
        "outputId": "f0d95fa2-daa4-4742-a007-4b25e68ed859"
      },
      "source": [
        "num1 = 1042000\n",
        "num2 = 702648265\n",
        " \n",
        "for num in range(num1, num2 + 1):\n",
        " \n",
        "   \n",
        "   order = len(str(num))\n",
        "    \n",
        "   \n",
        "   sum = 0\n",
        " \n",
        "   temp = num\n",
        "   while temp > 0:\n",
        "       digit = temp % 10\n",
        "       sum += digit ** order\n",
        "       temp //= 10\n",
        " \n",
        "   if num == sum:\n",
        "       print(num)\n",
        "       break"
      ],
      "execution_count": 7,
      "outputs": [
        {
          "output_type": "stream",
          "text": [
            "1741725\n"
          ],
          "name": "stdout"
        }
      ]
    },
    {
      "cell_type": "code",
      "metadata": {
        "id": "6X6dY_POldSI",
        "colab_type": "code",
        "colab": {}
      },
      "source": [
        ""
      ],
      "execution_count": null,
      "outputs": []
    }
  ]
}
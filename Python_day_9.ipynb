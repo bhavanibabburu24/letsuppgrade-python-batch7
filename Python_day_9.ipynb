{
  "nbformat": 4,
  "nbformat_minor": 0,
  "metadata": {
    "colab": {
      "name": "Python-day 9",
      "provenance": [],
      "collapsed_sections": [],
      "authorship_tag": "ABX9TyPr4nmkY1VWUS5tUBVkrYvj",
      "include_colab_link": true
    },
    "kernelspec": {
      "name": "python3",
      "display_name": "Python 3"
    }
  },
  "cells": [
    {
      "cell_type": "markdown",
      "metadata": {
        "id": "view-in-github",
        "colab_type": "text"
      },
      "source": [
        "<a href=\"https://colab.research.google.com/github/bhavanibabburu24/letsuppgrade-python-batch7/blob/master/Python_day_9.ipynb\" target=\"_parent\"><img src=\"https://colab.research.google.com/assets/colab-badge.svg\" alt=\"Open In Colab\"/></a>"
      ]
    },
    {
      "cell_type": "markdown",
      "metadata": {
        "id": "Nxlk13o7zhep",
        "colab_type": "text"
      },
      "source": [
        " Assignment2"
      ]
    },
    {
      "cell_type": "code",
      "metadata": {
        "id": "F7qFKrsuzNxa",
        "colab_type": "code",
        "colab": {}
      },
      "source": [
        " \n",
        "def armstrongnum():\n",
        "  \n",
        " \n",
        " \n",
        "  for x in range(1,1000):\n",
        " \n",
        " \n",
        "    sum = 0\n",
        " \n",
        " \n",
        "    temp = x\n",
        "    while temp > 0:\n",
        "       digit = temp % 10\n",
        "       sum += digit ** 3\n",
        "       temp //= 10\n",
        " \n",
        " \n",
        "    if x == sum:\n",
        "       yield x"
      ],
      "execution_count": null,
      "outputs": []
    },
    {
      "cell_type": "code",
      "metadata": {
        "id": "7wZIlDjnyS3i",
        "colab_type": "code",
        "colab": {
          "base_uri": "https://localhost:8080/",
          "height": 34
        },
        "outputId": "18d3ed63-7c64-414f-82bc-5a2a1a6a969a"
      },
      "source": [
        "list (armstrongnum())"
      ],
      "execution_count": null,
      "outputs": [
        {
          "output_type": "execute_result",
          "data": {
            "text/plain": [
              "[1, 153, 370, 371, 407]"
            ]
          },
          "metadata": {
            "tags": []
          },
          "execution_count": 17
        }
      ]
    },
    {
      "cell_type": "markdown",
      "metadata": {
        "id": "-jOhNH4WzpP7",
        "colab_type": "text"
      },
      "source": [
        "Assignment 1"
      ]
    },
    {
      "cell_type": "code",
      "metadata": {
        "id": "cEWaDexseXAy",
        "colab_type": "code",
        "colab": {
          "base_uri": "https://localhost:8080/",
          "height": 196
        },
        "outputId": "0db5bd1b-37e0-4686-d644-b29c48cf0ac9"
      },
      "source": [
        " \n",
        "!pip install pylint\n",
        "file=open(\"primenum.py\",\"w\")\n",
        "file.write(\n",
        "'num=int(input(\"enter ur number\"))flag=0for x in range(1,num+1):if \n",
        "num%x==0:flag+=1if flag==2: print(\"its a prime number\")else :  print(\"it is not a prime number\")')\n",
        "file.close()\n",
        "file=open(\"primenum.py\",\"r\")\n",
        "print(file.read())\n",
        "file.close()"
      ],
      "execution_count": null,
      "outputs": [
        {
          "output_type": "error",
          "ename": "SyntaxError",
          "evalue": "ignored",
          "traceback": [
            "\u001b[0;36m  File \u001b[0;32m\"<ipython-input-18-bae61f181c3d>\"\u001b[0;36m, line \u001b[0;32m5\u001b[0m\n\u001b[0;31m    'num=int(input(\"enter ur number\"))flag=0for x in range(1,num+1):if\u001b[0m\n\u001b[0m                                                                       ^\u001b[0m\n\u001b[0;31mSyntaxError\u001b[0m\u001b[0;31m:\u001b[0m EOL while scanning string literal\n"
          ]
        }
      ]
    },
    {
      "cell_type": "code",
      "metadata": {
        "id": "-PeBsdFJed08",
        "colab_type": "code",
        "colab": {
          "base_uri": "https://localhost:8080/",
          "height": 34
        },
        "outputId": "a472ec65-d91d-4727-f3b8-13a143d28577"
      },
      "source": [
        " \n",
        "!pylint primenum.py"
      ],
      "execution_count": null,
      "outputs": [
        {
          "output_type": "stream",
          "text": [
            "/bin/bash: pylint: command not found\n"
          ],
          "name": "stdout"
        }
      ]
    },
    {
      "cell_type": "code",
      "metadata": {
        "id": "wakflB-tfn1y",
        "colab_type": "code",
        "colab": {
          "base_uri": "https://localhost:8080/",
          "height": 534
        },
        "outputId": "2d8d07cc-2399-473e-eef5-6a5f9d6ddd97"
      },
      "source": [
        " \n",
        " \n",
        "# unittest\n",
        " \n",
        "import unittest\n",
        "import primenum.py\n",
        "class Testprimenum(unittest.Testcase):\n",
        "  def prime(self):\n",
        "    n=4\n",
        "    result=primenum.prime(n)\n",
        "    self.assertEqual(result,\"it is not a prime number\")"
      ],
      "execution_count": 12,
      "outputs": [
        {
          "output_type": "error",
          "ename": "ModuleNotFoundError",
          "evalue": "ignored",
          "traceback": [
            "\u001b[0;31m---------------------------------------------------------------------------\u001b[0m",
            "\u001b[0;31mModuleNotFoundError\u001b[0m                       Traceback (most recent call last)",
            "\u001b[0;32m<ipython-input-12-9619079e8ce8>\u001b[0m in \u001b[0;36m<module>\u001b[0;34m()\u001b[0m\n\u001b[1;32m      4\u001b[0m \u001b[0;34m\u001b[0m\u001b[0m\n\u001b[1;32m      5\u001b[0m \u001b[0;32mimport\u001b[0m \u001b[0munittest\u001b[0m\u001b[0;34m\u001b[0m\u001b[0;34m\u001b[0m\u001b[0m\n\u001b[0;32m----> 6\u001b[0;31m \u001b[0;32mimport\u001b[0m \u001b[0mprimenum\u001b[0m\u001b[0;34m.\u001b[0m\u001b[0mpy\u001b[0m\u001b[0;34m\u001b[0m\u001b[0;34m\u001b[0m\u001b[0m\n\u001b[0m\u001b[1;32m      7\u001b[0m \u001b[0;32mclass\u001b[0m \u001b[0mTestprimenum\u001b[0m\u001b[0;34m(\u001b[0m\u001b[0munittest\u001b[0m\u001b[0;34m.\u001b[0m\u001b[0mTestcase\u001b[0m\u001b[0;34m)\u001b[0m\u001b[0;34m:\u001b[0m\u001b[0;34m\u001b[0m\u001b[0;34m\u001b[0m\u001b[0m\n\u001b[1;32m      8\u001b[0m  \u001b[0;32mdef\u001b[0m \u001b[0mprime\u001b[0m\u001b[0;34m(\u001b[0m\u001b[0mself\u001b[0m\u001b[0;34m)\u001b[0m\u001b[0;34m:\u001b[0m\u001b[0;34m\u001b[0m\u001b[0;34m\u001b[0m\u001b[0m\n",
            "\u001b[0;31mModuleNotFoundError\u001b[0m: No module named 'primenum'",
            "",
            "\u001b[0;31m---------------------------------------------------------------------------\u001b[0;32m\nNOTE: If your import is failing due to a missing package, you can\nmanually install dependencies using either !pip or !apt.\n\nTo view examples of installing some common dependencies, click the\n\"Open Examples\" button below.\n\u001b[0;31m---------------------------------------------------------------------------\u001b[0m\n"
          ]
        }
      ]
    }
  ]
}
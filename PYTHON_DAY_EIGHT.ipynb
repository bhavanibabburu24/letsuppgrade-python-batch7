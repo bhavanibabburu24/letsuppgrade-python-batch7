{
  "nbformat": 4,
  "nbformat_minor": 0,
  "metadata": {
    "colab": {
      "name": "PYTHON DAY EIGHT",
      "provenance": [],
      "collapsed_sections": [],
      "authorship_tag": "ABX9TyPUiR+BQCsSK9XQwbb/RngP",
      "include_colab_link": true
    },
    "kernelspec": {
      "name": "python3",
      "display_name": "Python 3"
    }
  },
  "cells": [
    {
      "cell_type": "markdown",
      "metadata": {
        "id": "view-in-github",
        "colab_type": "text"
      },
      "source": [
        "<a href=\"https://colab.research.google.com/github/bhavanibabburu24/letsuppgrade-python-batch7/blob/master/PYTHON_DAY_EIGHT.ipynb\" target=\"_parent\"><img src=\"https://colab.research.google.com/assets/colab-badge.svg\" alt=\"Open In Colab\"/></a>"
      ]
    },
    {
      "cell_type": "markdown",
      "metadata": {
        "id": "OCTZZlvopOt4",
        "colab_type": "text"
      },
      "source": [
        "## assignment1"
      ]
    },
    {
      "cell_type": "code",
      "metadata": {
        "id": "ydAvs_tCjrGT",
        "colab_type": "code",
        "colab": {}
      },
      "source": [
        "def new(f):\n",
        "  fun=[]\n",
        "\n",
        "  def helper(x):\n",
        "    if x not in fun:\n",
        "      print(x)\n",
        "      fun[x]=f(x)\n",
        "    return fun[x]\n",
        "  return helper"
      ],
      "execution_count": null,
      "outputs": []
    },
    {
      "cell_type": "code",
      "metadata": {
        "id": "rzyHCazBnKpW",
        "colab_type": "code",
        "colab": {
          "base_uri": "https://localhost:8080/",
          "height": 204
        },
        "outputId": "b0b7f2e3-2030-4d83-cef1-138b31f240de"
      },
      "source": [
        "def fib(n):\n",
        "  if n==0:\n",
        "    return 0\n",
        "  elif n==1: \n",
        "    return 1\n",
        "  else:\n",
        "    return fib(n-1)+fib(n-2)\n",
        "for i in range (0,11):\n",
        "  print(fib(i))"
      ],
      "execution_count": null,
      "outputs": [
        {
          "output_type": "stream",
          "text": [
            "0\n",
            "1\n",
            "1\n",
            "2\n",
            "3\n",
            "5\n",
            "8\n",
            "13\n",
            "21\n",
            "34\n",
            "55\n"
          ],
          "name": "stdout"
        }
      ]
    },
    {
      "cell_type": "markdown",
      "metadata": {
        "id": "aMO1WO-IpECN",
        "colab_type": "text"
      },
      "source": [
        "## assignment2"
      ]
    },
    {
      "cell_type": "markdown",
      "metadata": {
        "id": "1sHMdizMpKFo",
        "colab_type": "text"
      },
      "source": [
        ""
      ]
    },
    {
      "cell_type": "code",
      "metadata": {
        "id": "DQHOJo_ro5Ah",
        "colab_type": "code",
        "colab": {
          "base_uri": "https://localhost:8080/",
          "height": 68
        },
        "outputId": "66c782cf-2516-4a0d-d759-4db088523dfd"
      },
      "source": [
        "file=open(\"fcs.txt\",\"w\")\n",
        "print(file)\n",
        "file.write(\"welcome to LU\")\n",
        "try:\n",
        "  file=open(\"fcs.txt\",\"r\")\n",
        "  file.write(\"hello world\")\n",
        "except Exception as e:\n",
        "  print(\"try in another way\",e)\n",
        "finally:\n",
        "  txt=file.read()\n",
        "  print(txt)\n",
        "  file.close()"
      ],
      "execution_count": null,
      "outputs": [
        {
          "output_type": "stream",
          "text": [
            "<_io.TextIOWrapper name='fcs.txt' mode='w' encoding='UTF-8'>\n",
            "try in another way not writable\n",
            "welcome to LU\n"
          ],
          "name": "stdout"
        }
      ]
    }
  ]
}
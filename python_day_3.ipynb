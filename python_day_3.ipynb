{
  "nbformat": 4,
  "nbformat_minor": 0,
  "metadata": {
    "colab": {
      "name": "python- day 3",
      "provenance": [],
      "collapsed_sections": [],
      "authorship_tag": "ABX9TyMOYhsFC4wgluvXQkxQlikB",
      "include_colab_link": true
    },
    "kernelspec": {
      "name": "python3",
      "display_name": "Python 3"
    }
  },
  "cells": [
    {
      "cell_type": "markdown",
      "metadata": {
        "id": "view-in-github",
        "colab_type": "text"
      },
      "source": [
        "<a href=\"https://colab.research.google.com/github/bhavanibabburu24/letsuppgrade-python-batch7/blob/master/python_day_3.ipynb\" target=\"_parent\"><img src=\"https://colab.research.google.com/assets/colab-badge.svg\" alt=\"Open In Colab\"/></a>"
      ]
    },
    {
      "cell_type": "markdown",
      "metadata": {
        "id": "_GG9yjFyeZ_Q",
        "colab_type": "text"
      },
      "source": [
        "## question-1"
      ]
    },
    {
      "cell_type": "code",
      "metadata": {
        "id": "uRn9guHndoYe",
        "colab_type": "code",
        "colab": {
          "base_uri": "https://localhost:8080/",
          "height": 34
        },
        "outputId": "aef00c89-6450-4e36-b28c-260a4e1edf94"
      },
      "source": [
        "altitude=1000\n",
        "if altitude == 1000:\n",
        "    print(\"plane is safe to land\")\n",
        "elif altitude > 1000 and altitude < 50000:\n",
        "    print(\"bring down the plane to 1000\")\n",
        "else:\n",
        "    print(\"turn around the plane\")    \n"
      ],
      "execution_count": 4,
      "outputs": [
        {
          "output_type": "stream",
          "text": [
            "plane is safe to land\n"
          ],
          "name": "stdout"
        }
      ]
    },
    {
      "cell_type": "markdown",
      "metadata": {
        "id": "aoO8Zsbme6s-",
        "colab_type": "text"
      },
      "source": [
        "### question-2"
      ]
    },
    {
      "cell_type": "code",
      "metadata": {
        "id": "gwaYnVsNfJQg",
        "colab_type": "code",
        "colab": {
          "base_uri": "https://localhost:8080/",
          "height": 816
        },
        "outputId": "31e0408c-7d1d-482b-9855-34da25945908"
      },
      "source": [
        "lower = 1\n",
        "upper = 200\n",
        "print(\"prime no's between\",lower,\"and\",upper,\"are:\")\n",
        "for num in range(lower,upper + 1):\n",
        "  if num > 1:\n",
        "      for i in range(2,num):\n",
        "        if (num % i) == 0:\n",
        "            break\n",
        "      else:\n",
        "         print(num)   "
      ],
      "execution_count": 8,
      "outputs": [
        {
          "output_type": "stream",
          "text": [
            "prime no's between 1 and 200 are:\n",
            "2\n",
            "3\n",
            "5\n",
            "7\n",
            "11\n",
            "13\n",
            "17\n",
            "19\n",
            "23\n",
            "29\n",
            "31\n",
            "37\n",
            "41\n",
            "43\n",
            "47\n",
            "53\n",
            "59\n",
            "61\n",
            "67\n",
            "71\n",
            "73\n",
            "79\n",
            "83\n",
            "89\n",
            "97\n",
            "101\n",
            "103\n",
            "107\n",
            "109\n",
            "113\n",
            "127\n",
            "131\n",
            "137\n",
            "139\n",
            "149\n",
            "151\n",
            "157\n",
            "163\n",
            "167\n",
            "173\n",
            "179\n",
            "181\n",
            "191\n",
            "193\n",
            "197\n",
            "199\n"
          ],
          "name": "stdout"
        }
      ]
    },
    {
      "cell_type": "code",
      "metadata": {
        "id": "RYf36_UOgfFy",
        "colab_type": "code",
        "colab": {}
      },
      "source": [
        ""
      ],
      "execution_count": null,
      "outputs": []
    }
  ]
}
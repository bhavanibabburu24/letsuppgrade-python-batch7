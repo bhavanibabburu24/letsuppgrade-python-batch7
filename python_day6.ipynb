{
  "nbformat": 4,
  "nbformat_minor": 0,
  "metadata": {
    "colab": {
      "name": "python-day6",
      "provenance": [],
      "collapsed_sections": [],
      "authorship_tag": "ABX9TyMQsIPjhdXt7l05Bcc0bwcH",
      "include_colab_link": true
    },
    "kernelspec": {
      "name": "python3",
      "display_name": "Python 3"
    }
  },
  "cells": [
    {
      "cell_type": "markdown",
      "metadata": {
        "id": "view-in-github",
        "colab_type": "text"
      },
      "source": [
        "<a href=\"https://colab.research.google.com/github/bhavanibabburu24/letsuppgrade-python-batch7/blob/master/python_day6.ipynb\" target=\"_parent\"><img src=\"https://colab.research.google.com/assets/colab-badge.svg\" alt=\"Open In Colab\"/></a>"
      ]
    },
    {
      "cell_type": "code",
      "metadata": {
        "id": "zA0qMyLOzdvf",
        "colab_type": "code",
        "colab": {
          "base_uri": "https://localhost:8080/",
          "height": 102
        },
        "outputId": "46b9c469-7e62-4d88-9996-e991e6065ee2"
      },
      "source": [
        "class Account:\n",
        "    \n",
        "    def __init__(self, owner, balance):\n",
        "        self.owner = owner\n",
        "        self.balance = balance\n",
        "    \n",
        "    def __str__(self):\n",
        "        return 'Account owner: {owner}\\nAccount balance: ${balance}'.format(owner=self.owner, balance=self.balance)\n",
        "        \n",
        "    def deposit(self, dp_money):\n",
        "        self.balance += dp_money\n",
        "        print('Deposit Accepted, your balance is {balance}'.format(balance=self.balance))\n",
        "    \n",
        "    def withdraw(self, wd_money):\n",
        "        if wd_money > self.balance:\n",
        "            print('Funds Unavailable!')\n",
        "        else:\n",
        "            self.balance -= wd_money\n",
        "            print('Withdrawal Accepted, your balance is {balance}'.format(balance=self.balance))\n",
        "            \n",
        "acct1 = Account('bhavani',500)\n",
        "print(acct1)\n",
        "\n",
        "acct1.deposit(100)\n",
        "acct1.withdraw(30)\n",
        "acct1.withdraw(100)"
      ],
      "execution_count": 3,
      "outputs": [
        {
          "output_type": "stream",
          "text": [
            "Account owner: bhavani\n",
            "Account balance: $500\n",
            "Deposit Accepted, your balance is 600\n",
            "Withdrawal Accepted, your balance is 570\n",
            "Withdrawal Accepted, your balance is 470\n"
          ],
          "name": "stdout"
        }
      ]
    },
    {
      "cell_type": "code",
      "metadata": {
        "id": "V1se1ERz49YM",
        "colab_type": "code",
        "colab": {
          "base_uri": "https://localhost:8080/",
          "height": 51
        },
        "outputId": "29e5f801-1467-4a35-d2ce-2554680d5e39"
      },
      "source": [
        "''' Python3 program to calculate Volume and \n",
        "\tSurface area of Cone'''\n",
        " \n",
        "import math \n",
        "pi = math.pi \n",
        " \n",
        "def volume(r, h): \n",
        "\treturn (1 / 3) * pi * r * r * h \n",
        "\n",
        "def surfacearea(r, s): \n",
        "\treturn pi * r * s + pi * r * r \n",
        " \n",
        "radius = float(4) \n",
        "height = float(11) \n",
        "slat_height = float(12) \n",
        "print( \"Volume Of Cone : \", volume(radius, height) ) \n",
        "print( \"Surface Area Of Cone : \", surfacearea(radius, slat_height) ) \n"
      ],
      "execution_count": 8,
      "outputs": [
        {
          "output_type": "stream",
          "text": [
            "Volume Of Cone :  184.3067690106012\n",
            "Surface Area Of Cone :  201.06192982974676\n"
          ],
          "name": "stdout"
        }
      ]
    }
  ]
}